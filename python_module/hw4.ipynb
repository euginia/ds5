{
 "cells": [
  {
   "cell_type": "code",
   "execution_count": 1,
   "metadata": {},
   "outputs": [],
   "source": [
    "# Задание 1\n",
    "# Напишите функцию date_range, которая возвращает список дней между датами start_date и end_date. \n",
    "# Даты должны вводиться в формате YYYY-MM-DD."
   ]
  },
  {
   "cell_type": "code",
   "execution_count": 3,
   "metadata": {},
   "outputs": [],
   "source": [
    "from datetime import datetime\n",
    "from datetime import timedelta"
   ]
  },
  {
   "cell_type": "code",
   "execution_count": 14,
   "metadata": {},
   "outputs": [],
   "source": [
    "def date_range(start_date, end_date):\n",
    "    current_date = datetime.strptime(start_date,'%Y-%m-%d')\n",
    "    days = []\n",
    "    while current_date <= datetime.strptime(end_date,'%Y-%m-%d'): # не очень понятно, на сколько плохо сюда вычисление вставлять\n",
    "        days.append(current_date.strftime('%Y-%m-%d'))\n",
    "        current_date += timedelta(days=1)\n",
    "    return days"
   ]
  },
  {
   "cell_type": "code",
   "execution_count": 15,
   "metadata": {},
   "outputs": [
    {
     "data": {
      "text/plain": [
       "['2018-01-01',\n",
       " '2018-01-02',\n",
       " '2018-01-03',\n",
       " '2018-01-04',\n",
       " '2018-01-05',\n",
       " '2018-01-06',\n",
       " '2018-01-07',\n",
       " '2018-01-08',\n",
       " '2018-01-09',\n",
       " '2018-01-10',\n",
       " '2018-01-11',\n",
       " '2018-01-12',\n",
       " '2018-01-13',\n",
       " '2018-01-14',\n",
       " '2018-01-15']"
      ]
     },
     "execution_count": 15,
     "metadata": {},
     "output_type": "execute_result"
    }
   ],
   "source": [
    "days = date_range('2018-01-01','2018-01-15')\n",
    "days"
   ]
  },
  {
   "cell_type": "code",
   "execution_count": 16,
   "metadata": {},
   "outputs": [],
   "source": [
    "# Задание 2\n",
    "# Дополните функцию из первого задания проверкой на корректность дат. В случае неверного формата или если \n",
    "# start_date > end_date должен возвращаться пустой список."
   ]
  },
  {
   "cell_type": "code",
   "execution_count": 17,
   "metadata": {},
   "outputs": [],
   "source": [
    "def date_range_secure(start_date, end_date):\n",
    "    if start_date > end_date:\n",
    "        return []\n",
    "    \n",
    "    current_date = datetime.strptime(start_date,'%Y-%m-%d')\n",
    "    days = []\n",
    "    while current_date <= datetime.strptime(end_date,'%Y-%m-%d'): \n",
    "        days.append(current_date.strftime('%Y-%m-%d'))\n",
    "        current_date += timedelta(days=1)\n",
    "    return days"
   ]
  },
  {
   "cell_type": "code",
   "execution_count": 18,
   "metadata": {},
   "outputs": [
    {
     "data": {
      "text/plain": [
       "[]"
      ]
     },
     "execution_count": 18,
     "metadata": {},
     "output_type": "execute_result"
    }
   ],
   "source": [
    "days = date_range_secure('2018-02-01','2018-01-15')\n",
    "days"
   ]
  },
  {
   "cell_type": "code",
   "execution_count": 20,
   "metadata": {},
   "outputs": [],
   "source": [
    "# Задание 3\n",
    "# Дан поток дат в формате YYYY-MM-DD, в которых встречаются некорректные значения:\n",
    "stream = ['2018-04-02', '2018-02-29', '2018-19-02']\n",
    "\n",
    "# Напишите функцию, которая проверяет эти даты на корректность. \n",
    "# Т. е. для каждой даты возвращает True (дата корректна) или False (некорректная дата). "
   ]
  },
  {
   "cell_type": "code",
   "execution_count": 22,
   "metadata": {},
   "outputs": [],
   "source": [
    "def dates_checker(stream):\n",
    "    checks = []\n",
    "    for item in stream:\n",
    "        try:\n",
    "            datetime.strptime(item,'%Y-%m-%d')\n",
    "            checks.append(True)\n",
    "        except:\n",
    "            checks.append(False)\n",
    "    return checks"
   ]
  },
  {
   "cell_type": "code",
   "execution_count": 24,
   "metadata": {},
   "outputs": [
    {
     "data": {
      "text/plain": [
       "[True, False, False]"
      ]
     },
     "execution_count": 24,
     "metadata": {},
     "output_type": "execute_result"
    }
   ],
   "source": [
    "check_result = dates_checker(stream)\n",
    "check_result"
   ]
  },
  {
   "cell_type": "code",
   "execution_count": 25,
   "metadata": {},
   "outputs": [],
   "source": [
    "# Задание 4\n",
    "# Напишите функцию, которая возвращает список дат с 1 по вчерашний день текущего месяца. \n",
    "# Если дан 1 день месяца, то возвращается список дней прошлого месяца."
   ]
  },
  {
   "cell_type": "code",
   "execution_count": 45,
   "metadata": {},
   "outputs": [],
   "source": [
    "def days_of_month_before_today():\n",
    "    today = datetime.today()\n",
    "    if today.day == 1:\n",
    "        start_period_day = datetime.strptime((today - timedelta(days=1)).strftime('%Y-%m-01'),'%Y-%m-%d')\n",
    "    else:\n",
    "        start_period_day = datetime.strptime(today.strftime('%Y-%m-01'),'%Y-%m-%d')\n",
    "    \n",
    "    current_date = start_period_day\n",
    "    end_period_day = today - timedelta(days=1)\n",
    "    dates = []\n",
    "    while current_date < end_period_day:\n",
    "        dates.append(current_date)\n",
    "        current_date += timedelta(days=1)\n",
    "    return dates"
   ]
  },
  {
   "cell_type": "code",
   "execution_count": 46,
   "metadata": {},
   "outputs": [
    {
     "data": {
      "text/plain": [
       "[datetime.datetime(2018, 12, 1, 0, 0),\n",
       " datetime.datetime(2018, 12, 2, 0, 0),\n",
       " datetime.datetime(2018, 12, 3, 0, 0),\n",
       " datetime.datetime(2018, 12, 4, 0, 0),\n",
       " datetime.datetime(2018, 12, 5, 0, 0),\n",
       " datetime.datetime(2018, 12, 6, 0, 0),\n",
       " datetime.datetime(2018, 12, 7, 0, 0),\n",
       " datetime.datetime(2018, 12, 8, 0, 0),\n",
       " datetime.datetime(2018, 12, 9, 0, 0)]"
      ]
     },
     "execution_count": 46,
     "metadata": {},
     "output_type": "execute_result"
    }
   ],
   "source": [
    "this_month_dates = days_of_month_before_today()\n",
    "this_month_dates"
   ]
  },
  {
   "cell_type": "code",
   "execution_count": 47,
   "metadata": {},
   "outputs": [],
   "source": [
    "# Задание 5\n",
    "# Напишите функцию, которая возвращает точную дату в формате YYYY-MM-DD по фразе:\n",
    "# 1. 'today' - сегодняшнюю дату\n",
    "# 2. 'last monday' -  прошлый понедельник\n",
    "# 3. 'last day' - Последний день текущего месяца"
   ]
  },
  {
   "cell_type": "code",
   "execution_count": 48,
   "metadata": {},
   "outputs": [],
   "source": [
    "def return_dates(parameter):\n",
    "    if parameter == 'today':\n",
    "        return datetime.today().strftime('%Y-%m-%d')\n",
    "        \n",
    "    elif parameter == 'last monday':\n",
    "        today = datetime.today()\n",
    "        weekday = today.weekday()\n",
    "        last_monday = today - timedelta(days=7 + weekday)\n",
    "        return last_monday.strftime('%Y-%m-%d')\n",
    "    \n",
    "    elif parameter == 'last day':\n",
    "        today = datetime.today()\n",
    "        month = today.month \n",
    "        year = today.year\n",
    "        if month < 12:\n",
    "            last_day = datetime.strptime(today.strftime(f'%Y-{month+1}-01'),'%Y-%m-%d') - timedelta(days=1)\n",
    "            return last_day.strftime('%Y-%m-%d')\n",
    "        else:\n",
    "            last_day = datetime.strptime(today.strftime(f'{year+1}-01-01'),'%Y-%m-%d') - timedelta(days=1)\n",
    "            return last_day.strftime('%Y-%m-%d')\n",
    "    else:\n",
    "        print('Я тебя не понимаю :(')\n",
    "        return None"
   ]
  },
  {
   "cell_type": "code",
   "execution_count": 51,
   "metadata": {},
   "outputs": [
    {
     "data": {
      "text/plain": [
       "'2018-12-31'"
      ]
     },
     "execution_count": 51,
     "metadata": {},
     "output_type": "execute_result"
    }
   ],
   "source": [
    "result = return_dates('last day')\n",
    "result"
   ]
  },
  {
   "cell_type": "code",
   "execution_count": 52,
   "metadata": {},
   "outputs": [],
   "source": [
    "# Задание 6\n",
    "# Напишите функцию, которая разбивает на недели с понедельника по воскресенье интервал дат между start_date и end_date. \n",
    "# Считайте, что входные данные всегда корректны. В ответ должны входить только полные недели."
   ]
  },
  {
   "cell_type": "code",
   "execution_count": 92,
   "metadata": {},
   "outputs": [],
   "source": [
    "def days_to_weeks(start_date, end_date):\n",
    "    week_dates = {}\n",
    "    start_dt = datetime.strptime(start_date,'%Y-%m-%d')\n",
    "    end_dt = datetime.strptime(end_date,'%Y-%m-%d')\n",
    "    curr_dt = start_dt\n",
    "    \n",
    "    while curr_dt <= end_dt:\n",
    "        week_num = curr_dt.isocalendar()[1]\n",
    "        week_dates.setdefault(week_num,[])\n",
    "        week_dates[week_num].append(curr_dt.strftime('%Y-%m-%d'))\n",
    "        curr_dt += timedelta(days=1)\n",
    "    \n",
    "    return [(week,dates) for (week,dates) in week_dates.items() if len(dates) == 7]"
   ]
  },
  {
   "cell_type": "code",
   "execution_count": 93,
   "metadata": {},
   "outputs": [
    {
     "data": {
      "text/plain": [
       "[(47,\n",
       "  ['2018-11-19',\n",
       "   '2018-11-20',\n",
       "   '2018-11-21',\n",
       "   '2018-11-22',\n",
       "   '2018-11-23',\n",
       "   '2018-11-24',\n",
       "   '2018-11-25']),\n",
       " (48,\n",
       "  ['2018-11-26',\n",
       "   '2018-11-27',\n",
       "   '2018-11-28',\n",
       "   '2018-11-29',\n",
       "   '2018-11-30',\n",
       "   '2018-12-01',\n",
       "   '2018-12-02']),\n",
       " (49,\n",
       "  ['2018-12-03',\n",
       "   '2018-12-04',\n",
       "   '2018-12-05',\n",
       "   '2018-12-06',\n",
       "   '2018-12-07',\n",
       "   '2018-12-08',\n",
       "   '2018-12-09'])]"
      ]
     },
     "execution_count": 93,
     "metadata": {},
     "output_type": "execute_result"
    }
   ],
   "source": [
    "dates = days_to_weeks('2018-11-15','2018-12-10')\n",
    "dates"
   ]
  },
  {
   "cell_type": "code",
   "execution_count": null,
   "metadata": {},
   "outputs": [],
   "source": []
  },
  {
   "cell_type": "code",
   "execution_count": null,
   "metadata": {},
   "outputs": [],
   "source": [
    "\n",
    "    "
   ]
  }
 ],
 "metadata": {
  "kernelspec": {
   "display_name": "Python 3",
   "language": "python",
   "name": "python3"
  },
  "language_info": {
   "codemirror_mode": {
    "name": "ipython",
    "version": 3
   },
   "file_extension": ".py",
   "mimetype": "text/x-python",
   "name": "python",
   "nbconvert_exporter": "python",
   "pygments_lexer": "ipython3",
   "version": "3.7.0"
  }
 },
 "nbformat": 4,
 "nbformat_minor": 2
}
