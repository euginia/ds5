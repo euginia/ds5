{
 "cells": [
  {
   "cell_type": "code",
   "execution_count": null,
   "metadata": {},
   "outputs": [],
   "source": [
    "# Списки и строки – одни из важных начальных понятий для любого дата сайентиста,поскольку на знании принципов работы с ними строится \n",
    "# работа с препроцессингоми обработкой данных в python в целоми работы с модулем pandas в частности:\n",
    "# 1. Дан произвольный список, содержащий только числа. Выведите результат сложения всех чисел больше 10.\n"
   ]
  },
  {
   "cell_type": "code",
   "execution_count": 7,
   "metadata": {},
   "outputs": [
    {
     "name": "stdout",
     "output_type": "stream",
     "text": [
      "583.2201162106869\n"
     ]
    }
   ],
   "source": [
    "import random\n",
    "sample = []\n",
    "for i in range(10):\n",
    "    sample.append(random.random() * 100)\n",
    "    \n",
    "print(sum([x for x in sample if x > 10]))"
   ]
  },
  {
   "cell_type": "code",
   "execution_count": 8,
   "metadata": {},
   "outputs": [
    {
     "name": "stdout",
     "output_type": "stream",
     "text": [
      "['car', 'bar']\n"
     ]
    }
   ],
   "source": [
    "# 2. Пусть задан список, содержащий строки. Выведите все строки, заканчивающиеся буквой r.\n",
    "strings = ['cat', 'car', 'park', 'sun','bar']\n",
    "print([x for x in strings if x[-1] == 'r'])"
   ]
  },
  {
   "cell_type": "code",
   "execution_count": null,
   "metadata": {},
   "outputs": [],
   "source": [
    "# 3. Сгенерируйте и выведите cлучайную строку размером 6 символов, содержащую только цифры. Строка должна\n",
    "# содержать хотя бы одну цифру 3.\n"
   ]
  },
  {
   "cell_type": "code",
   "execution_count": 43,
   "metadata": {},
   "outputs": [
    {
     "name": "stdout",
     "output_type": "stream",
     "text": [
      "526903\n"
     ]
    }
   ],
   "source": [
    "digits = '0123456789'\n",
    "places = '012345'\n",
    "\n",
    "string = ''.join(random.choice(digits) for _ in range(6))\n",
    "\n",
    "if '3' not in string:\n",
    "    str_arr = list(string)\n",
    "    str_arr[int(random.choice(places))] = '3'\n",
    "    string = ''.join(str_arr)\n",
    "    \n",
    "print(string)"
   ]
  },
  {
   "cell_type": "code",
   "execution_count": 45,
   "metadata": {},
   "outputs": [
    {
     "name": "stdout",
     "output_type": "stream",
     "text": [
      "слов:  3\n",
      "символов: 15\n"
     ]
    }
   ],
   "source": [
    "# 4. Пусть дана строка произвольной длины. Выведите информацию о том, сколько в ней символов и сколько слов.\n",
    "string = 'mama  myla ramy'\n",
    "words_cnt = len(string.split())\n",
    "chars_cnt = len(string)\n",
    "\n",
    "print('слов: ',words_cnt)\n",
    "print('символов:',chars_cnt)"
   ]
  },
  {
   "cell_type": "code",
   "execution_count": 46,
   "metadata": {},
   "outputs": [],
   "source": [
    "# Матрицы-следующее за списками и строками важное понятие. Широко используется в линейной алгебре. Находит свое\n",
    "# применение в современных рекомендательных системах и архитектуре нейронных сетей:\n",
    "# 1. Пусть дана матрица чисел размером NхN. Представьте данную матрицу в виде списка. Выведите результат сложения\n",
    "# всех элементов матрицы.\n"
   ]
  },
  {
   "cell_type": "code",
   "execution_count": 51,
   "metadata": {},
   "outputs": [
    {
     "name": "stdout",
     "output_type": "stream",
     "text": [
      "16\n"
     ]
    }
   ],
   "source": [
    "import numpy as np\n",
    "matrix = np.array([[2, 3], [5, 6]])\n",
    "array = matrix.reshape(1,len(matrix)**2)[0]\n",
    "print(array.sum())"
   ]
  },
  {
   "cell_type": "code",
   "execution_count": 61,
   "metadata": {},
   "outputs": [],
   "source": [
    "# 2. Пусть дана матрица чисел размером NхM. Найти столбец матрицы с максимальной суммой элементов.\n"
   ]
  },
  {
   "cell_type": "code",
   "execution_count": 52,
   "metadata": {},
   "outputs": [],
   "source": [
    "matrix = np.array([[1.5, 2, 3], [4, 5, 6]])"
   ]
  },
  {
   "cell_type": "code",
   "execution_count": 60,
   "metadata": {},
   "outputs": [
    {
     "data": {
      "text/plain": [
       "array([3., 6.])"
      ]
     },
     "execution_count": 60,
     "metadata": {},
     "output_type": "execute_result"
    }
   ],
   "source": [
    "matrix.transpose()[np.argmax([row.sum() for row in matrix.transpose()])]"
   ]
  },
  {
   "cell_type": "code",
   "execution_count": null,
   "metadata": {},
   "outputs": [],
   "source": [
    "# Работа с динамичными структурами важная часть в имплементации вашего кода в продакшн систему:\n",
    "# 1. Пусть список студентов представлен в виде структуры [[No, ФИО, Возраст,Группа],[No, ФИО, Возраст, Группа],[No, ФИО,\n",
    "# Возраст, Группа]]. Преобразуйте список в словарь вида: {No: [ФИО, Возраст, Группа], No:[....], No: [....]}\n"
   ]
  },
  {
   "cell_type": "code",
   "execution_count": 63,
   "metadata": {},
   "outputs": [
    {
     "name": "stdout",
     "output_type": "stream",
     "text": [
      "{'1': ['Вася Кипелов', '16', 'ФН2-12'], '2': ['Леша Сбруев', '18', 'ФН2-11'], '3': ['Костя Суровый', '17', 'ФН2-13']}\n"
     ]
    }
   ],
   "source": [
    "students_arr = [['1','Вася Кипелов','16','ФН2-12'],['2','Леша Сбруев','18','ФН2-11'],['3','Костя Суровый','17','ФН2-13']]\n",
    "students_dict = {}\n",
    "for item in students_arr:\n",
    "    students_dict[item[0]] = item[1:]\n",
    "print(students_dict)"
   ]
  },
  {
   "cell_type": "code",
   "execution_count": null,
   "metadata": {},
   "outputs": [],
   "source": [
    "# 2. Добавьте к задаче No6 для словаря возможность (без преобразования словаря обратно в список) изменить группу\n",
    "# студента. Поиск по «ФИО» («ФИО» студента и новый номер группы необходимо ввести с клавиатуры).\n"
   ]
  },
  {
   "cell_type": "code",
   "execution_count": 65,
   "metadata": {},
   "outputs": [
    {
     "name": "stdout",
     "output_type": "stream",
     "text": [
      "Готово\n",
      "Нет такого студента\n"
     ]
    }
   ],
   "source": [
    "def change_group(name,group_number):\n",
    "    for key,value in students_dict.items():\n",
    "        if value[0] == name:\n",
    "            value[2] = group_number\n",
    "            return 'Готово'\n",
    "        return 'Нет такого студента'\n",
    "\n",
    "print(change_group('Вася Кипелов','ИУ5-11'))\n",
    "print(change_group('Валерий Кипелов','ИУ5-11'))"
   ]
  },
  {
   "cell_type": "code",
   "execution_count": 66,
   "metadata": {},
   "outputs": [
    {
     "name": "stdout",
     "output_type": "stream",
     "text": [
      "{'1': ['Вася Кипелов', '16', 'ИУ5-11'], '2': ['Леша Сбруев', '18', 'ФН2-11'], '3': ['Костя Суровый', '17', 'ФН2-13']}\n"
     ]
    }
   ],
   "source": [
    "print(students_dict)"
   ]
  },
  {
   "cell_type": "code",
   "execution_count": null,
   "metadata": {},
   "outputs": [],
   "source": [
    "# 3. Добавьте к задаче No6 для словаря возможность (без преобразования словаря обратно в список) изменить возраст студента. "
   ]
  },
  {
   "cell_type": "code",
   "execution_count": 67,
   "metadata": {},
   "outputs": [
    {
     "name": "stdout",
     "output_type": "stream",
     "text": [
      "Готово\n",
      "Нет такого студента\n",
      "{'1': ['Вася Кипелов', '18', 'ИУ5-11'], '2': ['Леша Сбруев', '18', 'ФН2-11'], '3': ['Костя Суровый', '17', 'ФН2-13']}\n"
     ]
    }
   ],
   "source": [
    "def change_age(name,age):\n",
    "    for value in students_dict.values():\n",
    "        if value[0] == name:\n",
    "            value[1] = age\n",
    "            return 'Готово'\n",
    "        return 'Нет такого студента'\n",
    "\n",
    "print(change_age('Вася Кипелов','18'))\n",
    "print(change_age('Валерий Кипелов','18'))\n",
    "print(students_dict)"
   ]
  },
  {
   "cell_type": "code",
   "execution_count": null,
   "metadata": {},
   "outputs": [],
   "source": []
  },
  {
   "cell_type": "code",
   "execution_count": null,
   "metadata": {},
   "outputs": [],
   "source": []
  },
  {
   "cell_type": "code",
   "execution_count": null,
   "metadata": {},
   "outputs": [],
   "source": []
  },
  {
   "cell_type": "code",
   "execution_count": null,
   "metadata": {},
   "outputs": [],
   "source": []
  },
  {
   "cell_type": "code",
   "execution_count": null,
   "metadata": {},
   "outputs": [],
   "source": []
  }
 ],
 "metadata": {
  "kernelspec": {
   "display_name": "Python 3",
   "language": "python",
   "name": "python3"
  },
  "language_info": {
   "codemirror_mode": {
    "name": "ipython",
    "version": 3
   },
   "file_extension": ".py",
   "mimetype": "text/x-python",
   "name": "python",
   "nbconvert_exporter": "python",
   "pygments_lexer": "ipython3",
   "version": "3.7.0"
  }
 },
 "nbformat": 4,
 "nbformat_minor": 2
}
