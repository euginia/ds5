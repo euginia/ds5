{
 "cells": [
  {
   "cell_type": "markdown",
   "metadata": {},
   "source": [
    "1. На шахматной доске n* n случайным образом размещают n ладей. Найдите вероятности следующих событий:\n",
    "\n",
    "A = {Ладьи не бьют друг друга}\n",
    "\n",
    "B = {Ладьи не бьют друг друга и на главной диагонали нет никаких фигур}"
   ]
  },
  {
   "cell_type": "markdown",
   "metadata": {},
   "source": [
    "Первую ладью можно разместить на доске числом способом n* n, вторую - n * n-1, .., n-ю: n(n-1).\n",
    "\n",
    "Таким образом, число возможных исходов:\n",
    "    $\\prod_1^{n-1} (n^2-k)$ "
   ]
  },
  {
   "cell_type": "markdown",
   "metadata": {},
   "source": [
    "Первая ладья сама себя не бьет, поэтому подойдет любой исход.\n",
    "\n",
    "Вторую ладью можно поставить $n^2-2n+1 = (n-1)^2$ способами.\n",
    "\n",
    "Третью ладью можно поставить $(n-1)^2 - (n-1) - (n-2) = (n-2)^2$ способами.\n",
    "\n",
    "k-ю ладью можно поставить $(n-k)^2$ способами.\n",
    "\n",
    "Соответственно, число положит. исходов: $\\prod_1^{n-1} (n-k)^2$"
   ]
  },
  {
   "cell_type": "markdown",
   "metadata": {},
   "source": [
    "Таким образом, $P(A) = \\frac{\\prod_1^{n-1} (n-k)^2}{\\prod_1^{n-1} (n^2-k)}$"
   ]
  },
  {
   "cell_type": "markdown",
   "metadata": {},
   "source": [
    "Для вычисления P(B), видимо, надо при расчете положит. исходов еще дополнительно вычитать клетки главной диагонали: т.е. для k-й ладьи будет $(n-k)^2 - (n-k) - (n-k-1) = (n-k-1)^2$\n",
    "\n",
    "Таким образом, $P(B) = \\frac{\\prod_1^{n-1} (n-k-1)^2}{\\prod_1^{n-1} (n^2-k)}$"
   ]
  },
  {
   "cell_type": "markdown",
   "metadata": {},
   "source": [
    "2. Брошено 3 игральных кости. Найти вероятность того, что на всех костях выпала\n",
    "“шестерка”, при условии что\n",
    "\n",
    "(a) на первой кости выпала “шестерка”;\n",
    "\n",
    "(b) по крайней мере на одной кости выпала “шестерка”;\n",
    "\n",
    "(c) по крайней мере на двух костях выпало равное количество очков."
   ]
  },
  {
   "cell_type": "markdown",
   "metadata": {},
   "source": [
    "$P(a) = 1/6$\n",
    "\n",
    "$P(b) = 3/216$\n",
    "\n",
    "$P(c) = 36/216$\n"
   ]
  },
  {
   "cell_type": "markdown",
   "metadata": {},
   "source": [
    "(d) на всех костях выпала \"шестерка\""
   ]
  },
  {
   "cell_type": "markdown",
   "metadata": {},
   "source": [
    "$P(d) = 1/216$\n",
    "\n",
    "$P(d|a) = \\frac{P(d\\cap a)}{P(a)} = \\frac{P(d)}{P(a)} = 1/36$\n",
    "\n",
    "$P(d|b) = \\frac{P(d\\cap b)}{P(b)} = \\frac{P(d)}{P(b)} = 1/3$\n",
    "\n",
    "$P(d|c) = \\frac{P(d\\cap c)}{P(c)} = \\frac{P(d)}{P(c)} = 1/36$"
   ]
  },
  {
   "cell_type": "markdown",
   "metadata": {},
   "source": [
    "3. Предположим, что в некоторой популяции до 60 лет доживает 50%, а до 80 лет — 20%. Какова вероятность, что случайно выбранный шестидесятилетний представитель популяции доживёт до восьмидесяти?"
   ]
  },
  {
   "cell_type": "markdown",
   "metadata": {},
   "source": [
    "A = {дожил до 60}\n",
    "\n",
    "B = {дожил до 80}\n",
    "\n",
    "P(A) = 0.5\n",
    "\n",
    "P(B) = 0.2\n",
    "\n",
    "$P(B|A) = \\frac{P(B\\cap A)}{P(A)}=\\frac{P(B)}{P(A)} = \\frac{0.2}{0.5} = 0.4$"
   ]
  },
  {
   "cell_type": "markdown",
   "metadata": {},
   "source": [
    "4. На заводе обуви производится 3 типа моделей. Вероятность того, что первая модель некачественная --- 0.1, вторая --- 0.2 и третья --- 0.15. Соотношение моделей на складе $40:30:30$. \n",
    "\t\tA Какая вероятность того, что случайно выбранная пара обуви окажется качественной?\n",
    "\t\tB Какая вероятность того, что выбранная некачественная пара обуви окажется второй модели?\n",
    "        \n"
   ]
  },
  {
   "cell_type": "markdown",
   "metadata": {},
   "source": [
    "$P(A) = 0.4*0.1 + 0.3*0.2 + 0.3*0.15 = 0.04 + 0.06 + 0.045 = 0.145$"
   ]
  },
  {
   "cell_type": "markdown",
   "metadata": {},
   "source": [
    "$P(B) = (1-P(A))*0.3 = 0.855 * 0.3 = 0.2565$"
   ]
  },
  {
   "cell_type": "markdown",
   "metadata": {},
   "source": [
    "5.\n",
    "\t\tКакие из приведённых величин, скорее всего, можно моделировать с помощью распределения Пуассона?\n",
    "\t\t\n",
    "\t\t\ta Результат выпадения симметричного шестигранного кубика.\n",
    "\t\t\tb Количество людей в очереди на кассу в супермаркете.\n",
    "\t\t\tc Количество изюма в булочках с изюмом.\n",
    "\t\t\td Число попаданий в баскетбольное кольцо за $n$ попыток.\n",
    "\t\t\te Точное время прихода на работу.\n"
   ]
  },
  {
   "cell_type": "markdown",
   "metadata": {},
   "source": [
    "b,c"
   ]
  },
  {
   "cell_type": "markdown",
   "metadata": {},
   "source": [
    "6. Постройте графики плотностей и функций распределения для:\n",
    "\t\t\n",
    "\t\t\t- Распределения Пуассона\n",
    "\t\t\t- Экспоненциального распределения (sts.expon)\n",
    "\t\t\t- Любого на выбор, которое не проходили\n",
    "\t\t\n",
    "\tДля каждого распределения поэкспериментируйте с выбором параметров и изобразите их на одном графике, не забывая про легенду и подписи осей."
   ]
  },
  {
   "cell_type": "code",
   "execution_count": 12,
   "metadata": {},
   "outputs": [],
   "source": [
    "import pandas as pd\n",
    "import numpy as np\n",
    "import matplotlib.pyplot as plt\n",
    "import scipy.stats as sts\n",
    "%matplotlib inline"
   ]
  },
  {
   "cell_type": "code",
   "execution_count": 24,
   "metadata": {},
   "outputs": [
    {
     "data": {
      "image/png": "[encoded data removed]",
      "text/plain": [
       "<Figure size 432x288 with 1 Axes>"
      ]
     },
     "metadata": {
      "needs_background": "light"
     },
     "output_type": "display_data"
    }
   ],
   "source": [
    "mu = 10\n",
    "fig, ax = plt.subplots(1, 1)\n",
    "\n",
    "x = np.arange(sts.poisson.ppf(0.01, mu),sts.poisson.ppf(0.99, mu))\n",
    "ax.plot(x, sts.poisson.pmf(x, mu), 'bo', ms=8, label='poisson pmf')\n",
    "ax.vlines(x, 0, sts.poisson.pmf(x, mu), colors='b', lw=5, alpha=0.5)\n",
    "\n",
    "plt.show()"
   ]
  },
  {
   "cell_type": "code",
   "execution_count": 25,
   "metadata": {},
   "outputs": [
    {
     "data": {
      "image/png": "[encoded data removed]",
      "text/plain": [
       "<Figure size 432x288 with 1 Axes>"
      ]
     },
     "metadata": {
      "needs_background": "light"
     },
     "output_type": "display_data"
    }
   ],
   "source": [
    "fig, ax = plt.subplots(1, 1) \n",
    "\n",
    "x = np.linspace(sts.expon.ppf(0.01),sts.expon.ppf(0.99), 100)\n",
    "ax.plot(x, sts.expon.pdf(x),'r-', lw=5, alpha=0.6, label='expon pdf')\n",
    "plt.show()"
   ]
  },
  {
   "cell_type": "code",
   "execution_count": 30,
   "metadata": {},
   "outputs": [
    {
     "data": {
      "image/png": "[encoded data removed]",
      "text/plain": [
       "<Figure size 432x288 with 1 Axes>"
      ]
     },
     "metadata": {
      "needs_background": "light"
     },
     "output_type": "display_data"
    }
   ],
   "source": [
    "fig, ax = plt.subplots(1, 1)\n",
    "df = 55\n",
    "\n",
    "x = np.linspace(sts.chi2.ppf(0.01, df),sts.chi2.ppf(0.99, df), 100)\n",
    "ax.plot(x, sts.chi2.pdf(x, df),'g-', lw=5, alpha=0.6, label='chi2 pdf')\n",
    "plt.show()"
   ]
  },
  {
   "cell_type": "code",
   "execution_count": null,
   "metadata": {},
   "outputs": [],
   "source": []
  }
 ],
 "metadata": {
  "kernelspec": {
   "display_name": "Python 3",
   "language": "python",
   "name": "python3"
  },
  "language_info": {
   "codemirror_mode": {
    "name": "ipython",
    "version": 3
   },
   "file_extension": ".py",
   "mimetype": "text/x-python",
   "name": "python",
   "nbconvert_exporter": "python",
   "pygments_lexer": "ipython3",
   "version": "3.7.1"
  }
 },
 "nbformat": 4,
 "nbformat_minor": 2
}
